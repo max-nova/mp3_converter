{
 "cells": [
  {
   "cell_type": "code",
   "execution_count": null,
   "metadata": {
    "collapsed": true
   },
   "outputs": [],
   "source": [
    "raw_dir = 'FILL ME IN'\n",
    "to_dir = 'FILL ME IN'"
   ]
  },
  {
   "cell_type": "markdown",
   "metadata": {},
   "source": [
    "Instructions\n",
    "---------------\n",
    " * Set the raw_dir and to_dir above appropriately\n",
    " * Run this notebook\n",
    " * Add the to_dir to iTunes\n",
    " * Right-click the album and choose \"Create MP3 Version\""
   ]
  },
  {
   "cell_type": "code",
   "execution_count": null,
   "metadata": {
    "collapsed": true
   },
   "outputs": [],
   "source": [
    "import glob\n",
    "import os\n",
    "import shutil\n",
    "\n",
    "ospj = os.path.join"
   ]
  },
  {
   "cell_type": "code",
   "execution_count": null,
   "metadata": {
    "collapsed": true
   },
   "outputs": [],
   "source": [
    "if not os.path.exists(to_dir):\n",
    "    os.makedirs(to_dir)"
   ]
  },
  {
   "cell_type": "code",
   "execution_count": null,
   "metadata": {
    "collapsed": false
   },
   "outputs": [],
   "source": [
    "def disc_key(fn):\n",
    "    for x in fn.split(os.path.sep):\n",
    "        if 'Disc ' in x:\n",
    "            return int(x.replace('Disc ', ''))\n",
    "    raise Exception('\"Disc \" not found in filename')\n",
    "    \n",
    "def track_key(fn):\n",
    "    for x in fn.split(os.path.sep):\n",
    "        if 'Track ' in x:\n",
    "            return int(x.replace('Track ', ''))\n",
    "    raise Exception('\"Track \" not found in filename')"
   ]
  },
  {
   "cell_type": "code",
   "execution_count": null,
   "metadata": {
    "collapsed": false
   },
   "outputs": [],
   "source": [
    "i = 1\n",
    "disc_dirs = glob.glob(ospj(raw_dir, '*'))\n",
    "for dd in sorted(disc_dirs, key=disc_key):\n",
    "    db = os.path.basename(dd)\n",
    "    disc_num = db.replace('Disc ', '')\n",
    "    tracks = glob.glob(ospj(dd, '*'))\n",
    "    for t in sorted(tracks, key=disc_key):\n",
    "        ext = os.path.splitext(t)[1]\n",
    "        out_fn = os.path.join(to_dir, '%s%s' % (i, ext))\n",
    "        print 'Processing', out_fn, '...'\n",
    "        shutil.move(t, out_fn)\n",
    "        i += 1"
   ]
  }
 ],
 "metadata": {
  "kernelspec": {
   "display_name": "Python 2",
   "language": "python",
   "name": "python2"
  },
  "language_info": {
   "codemirror_mode": {
    "name": "ipython",
    "version": 2
   },
   "file_extension": ".py",
   "mimetype": "text/x-python",
   "name": "python",
   "nbconvert_exporter": "python",
   "pygments_lexer": "ipython2",
   "version": "2.7.8"
  }
 },
 "nbformat": 4,
 "nbformat_minor": 0
}
